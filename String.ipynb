{
 "cells": [
  {
   "cell_type": "markdown",
   "id": "5804fc33",
   "metadata": {},
   "source": [
    "1. Write a Python program to concatenate all elements in a list into a string and return it.\n",
    "\n"
   ]
  },
  {
   "cell_type": "code",
   "execution_count": 1,
   "id": "1354e080",
   "metadata": {},
   "outputs": [
    {
     "name": "stdout",
     "output_type": "stream",
     "text": [
      "hello geek have a 1 day\n"
     ]
    }
   ],
   "source": [
    "# code\n",
    "l = ['hello', 'geek', 'have',\n",
    "   'a', '1', 'day']\n",
    "  \n",
    "# this will join all the \n",
    "# elements of the list with ' '\n",
    "l = ' '.join(l) \n",
    "print(l)"
   ]
  },
  {
   "cell_type": "code",
   "execution_count": 2,
   "id": "ba7b0dc8",
   "metadata": {},
   "outputs": [
    {
     "name": "stdout",
     "output_type": "stream",
     "text": [
      "hello geek have a 1 day\n"
     ]
    }
   ],
   "source": [
    "def concatenate_list_data(list):\n",
    "    for l in list:\n",
    "        add = ' '.join(list)\n",
    "        return add\n",
    "\n",
    "print(concatenate_list_data(['hello', 'geek', 'have',\n",
    "   'a', '1', 'day']))"
   ]
  },
  {
   "cell_type": "code",
   "execution_count": null,
   "id": "10585c16",
   "metadata": {},
   "outputs": [],
   "source": []
  }
 ],
 "metadata": {
  "kernelspec": {
   "display_name": "Python 3 (ipykernel)",
   "language": "python",
   "name": "python3"
  },
  "language_info": {
   "codemirror_mode": {
    "name": "ipython",
    "version": 3
   },
   "file_extension": ".py",
   "mimetype": "text/x-python",
   "name": "python",
   "nbconvert_exporter": "python",
   "pygments_lexer": "ipython3",
   "version": "3.9.7"
  }
 },
 "nbformat": 4,
 "nbformat_minor": 5
}
